{
 "cells": [
  {
   "cell_type": "markdown",
   "id": "2e258e71",
   "metadata": {
    "id": "e7c6507a-d03b-410a-b5e1-51213f5728a9"
   },
   "source": [
    "### Larvae-Vector System: Stability Analysis and Temperature Dependence\n",
    "\n",
    "This notebook explores the stability of a linear ordinary differential equation (ODE) system modeling the dynamics of larvae and a disease vector population. We will analyze the system's eigenvalues and then introduce temperature-dependent parameters to see how stability changes."
   ]
  },
  {
   "cell_type": "markdown",
   "id": "dc036cac",
   "metadata": {
    "id": "c138b0c4-a6b1-40c2-b52b-47e92ac45138"
   },
   "source": [
    "---"
   ]
  },
  {
   "cell_type": "markdown",
   "id": "4cf0aaaa",
   "metadata": {
    "id": "761c28c8-b520-4a8f-9a1d-a345e692a7f5"
   },
   "source": [
    "### Part 1: General Analysis of the Linear System\n",
    "\n",
    "First, we'll set up the symbolic representation of our ODE system and the corresponding matrix."
   ]
  },
  {
   "cell_type": "code",
   "execution_count": 2,
   "id": "d56abf09",
   "metadata": {
    "id": "a918a24c-1120-4104-942b-e555415712c9"
   },
   "outputs": [
    {
     "name": "stdout",
     "output_type": "stream",
     "text": [
      "The system of linear ordinary differential equations is:\n",
      "dL/dt = G*V - Y*L - F*L\n",
      "dV/dt = F*L - Z*V\n",
      "\n",
      "\n"
     ]
    }
   ],
   "source": [
    "import numpy as np\n",
    "import matplotlib.pyplot as plt\n",
    "import sympy as sp\n",
    "from scipy.linalg import eigvals\n",
    "\n",
    "# Define the symbolic variables\n",
    "L, V, t = sp.symbols('L V t')\n",
    "G, Y, F, Z = sp.symbols('G Y F Z')\n",
    "\n",
    "# State the system of ODEs\n",
    "print(\"The system of linear ordinary differential equations is:\")\n",
    "print(\"dL/dt = G*V - Y*L - F*L\")\n",
    "print(\"dV/dt = F*L - Z*V\")\n",
    "print(\"\\n\")"
   ]
  },
  {
   "cell_type": "markdown",
   "id": "9c0a6fe8",
   "metadata": {
    "id": "9047910a-6e69-450f-90e8-0b540f25e985"
   },
   "source": [
    "The system can be written in the form $dX/dt = AX$, where $X = \\begin{pmatrix} L \\\\ V \\end{pmatrix}$ and $A$ is the matrix of coefficients. The stability of the system's equilibrium point (0,0) is determined by the eigenvalues of matrix $A$."
   ]
  },
  {
   "cell_type": "code",
   "execution_count": 3,
   "id": "d97eaaee",
   "metadata": {
    "id": "8e75e11d-2917-47b1-b755-f28329b35b6a"
   },
   "outputs": [
    {
     "name": "stdout",
     "output_type": "stream",
     "text": [
      "The matrix A is:\n",
      "⎡-F - Y  G ⎤\n",
      "⎢          ⎥\n",
      "⎣  F     -Z⎦\n",
      "\n",
      "\n",
      "The trace of A is: -F - Y - Z\n",
      "The determinant of A is: -F*G + F*Z + Y*Z\n",
      "\n",
      "\n",
      "The eigenvalues are found by solving the characteristic equation: λ² - tr(A)λ + det(A) = 0.\n",
      "The discriminant, Δ = tr(A)² - 4*det(A), determines the nature of the eigenvalues:\n",
      "- If Δ > 0, the eigenvalues are real and distinct.\n",
      "- If Δ < 0, the eigenvalues are a complex conjugate pair.\n",
      "- If Δ = 0, there is a single, repeated real eigenvalue.\n",
      "\n",
      "\n",
      "The stability of the system's equilibrium point is determined by the eigenvalues:\n",
      "- **Stable (Node or Spiral):** Both real parts of the eigenvalues are negative. All solutions converge to the equilibrium.\n",
      "- **Saddle Point (Unstable):** One real eigenvalue is positive and one is negative. Solutions move away from the equilibrium along one direction but toward it along another.\n",
      "- **Unstable (Node or Spiral):** Both real parts are positive. All solutions diverge from the equilibrium.\n",
      "- **Center (Neutrally Stable):** Eigenvalues are purely imaginary (real part is zero). Solutions form closed loops around the equilibrium.\n"
     ]
    }
   ],
   "source": [
    "# Create the matrix A\n",
    "A = sp.Matrix([[-Y - F, G],\n",
    "               [F, -Z]])\n",
    "print(\"The matrix A is:\")\n",
    "sp.pprint(A)\n",
    "print(\"\\n\")\n",
    "\n",
    "# Calculate the eigenvalues symbolically\n",
    "tr_A = sp.trace(A)\n",
    "det_A = sp.det(A)\n",
    "print(f\"The trace of A is: {tr_A}\")\n",
    "print(f\"The determinant of A is: {det_A}\")\n",
    "print(\"\\n\")\n",
    "\n",
    "print(\"The eigenvalues are found by solving the characteristic equation: \\u03bb² - tr(A)\\u03bb + det(A) = 0.\")\n",
    "print(\"The discriminant, \\u0394 = tr(A)² - 4*det(A), determines the nature of the eigenvalues:\")\n",
    "print(\"- If \\u0394 > 0, the eigenvalues are real and distinct.\")\n",
    "print(\"- If \\u0394 < 0, the eigenvalues are a complex conjugate pair.\")\n",
    "print(\"- If \\u0394 = 0, there is a single, repeated real eigenvalue.\")\n",
    "print(\"\\n\")\n",
    "\n",
    "print(\"The stability of the system's equilibrium point is determined by the eigenvalues:\")\n",
    "print(\"- **Stable (Node or Spiral):** Both real parts of the eigenvalues are negative. All solutions converge to the equilibrium.\")\n",
    "print(\"- **Saddle Point (Unstable):** One real eigenvalue is positive and one is negative. Solutions move away from the equilibrium along one direction but toward it along another.\")\n",
    "print(\"- **Unstable (Node or Spiral):** Both real parts are positive. All solutions diverge from the equilibrium.\")\n",
    "print(\"- **Center (Neutrally Stable):** Eigenvalues are purely imaginary (real part is zero). Solutions form closed loops around the equilibrium.\")"
   ]
  },
  {
   "cell_type": "markdown",
   "id": "b02fdf52",
   "metadata": {
    "id": "c005b81a-7b3c-4e8c-a1d2-06992d192f44"
   },
   "source": [
    "---"
   ]
  },
  {
   "cell_type": "markdown",
   "id": "4f589b18",
   "metadata": {
    "id": "f55490a6-57c7-43c3-b452-47f6312a0280"
   },
   "source": [
    "### Part 2: Temperature Dependencies and Plotting\n",
    "\n",
    "Now, we'll introduce some simplified, example functions for how the parameters depend on temperature. These functions are chosen to illustrate different behaviors but could be replaced with more realistic models."
   ]
  },
  {
   "cell_type": "code",
   "execution_count": 4,
   "id": "1fbb51c4",
   "metadata": {
    "id": "060d4b9b-c2e8-4b20-af84-e4904d9c02d1"
   },
   "outputs": [],
   "source": [
    "# Define temperature-dependent parameters\n",
    "def G_temp(T):\n",
    "    return 0.1 * np.exp(0.05 * T)\n",
    "\n",
    "def Y_temp(T):\n",
    "    return 0.05 + 0.005 * T\n",
    "\n",
    "def F_temp(T):\n",
    "    # This is a parabolic function, modeling an optimal temperature for growth\n",
    "    return 0.08 * (T - 10) * (35 - T) / 100\n",
    "\n",
    "def Z_temp(T):\n",
    "    return 0.1 + 0.002 * T**2"
   ]
  },
  {
   "cell_type": "markdown",
   "id": "2ef4f3fe",
   "metadata": {
    "id": "2b30b42c-a232-47e2-8b6b-312762a49b2f"
   },
   "source": [
    "We can plot one of these functions to visualize its behavior across a range of temperatures. Here's a plot of the larval growth rate, $F$."
   ]
  },
  {
   "cell_type": "code",
   "execution_count": 5,
   "id": "3c41c77e",
   "metadata": {
    "id": "e2c0e86b-f47a-4228-ae71-9c3f0b2f1599"
   },
   "outputs": [
    {
     "data": {
      "image/png": "[encoded data removed]",
      "text/plain": [
       "<Figure size 800x600 with 1 Axes>"
      ]
     },
     "metadata": {},
     "output_type": "display_data"
    }
   ],
   "source": [
    "# Create a range of temperatures\n",
    "temps = np.arange(10, 40, 0.5)\n",
    "\n",
    "# Calculate the values of F over the temperature range\n",
    "F_values = [F_temp(T) for T in temps]\n",
    "\n",
    "# Plot the growth rate (F) vs. temperature\n",
    "plt.figure(figsize=(8, 6))\n",
    "plt.plot(temps, F_values, label='F(T)', color='blue')\n",
    "plt.title('Larval Growth Rate (F) vs. Temperature')\n",
    "plt.xlabel('Temperature (°C)')\n",
    "plt.ylabel('Larval Growth Rate (F)')\n",
    "plt.grid(True)\n",
    "plt.legend()\n",
    "plt.show()"
   ]
  },
  {
   "cell_type": "markdown",
   "id": "2161283a",
   "metadata": {
    "id": "f583f7a1-8d26-4d0f-a492-c4e976722d36"
   },
   "source": [
    "---"
   ]
  },
  {
   "cell_type": "markdown",
   "id": "acd25c6b",
   "metadata": {
    "id": "c88019c4-c13f-42e5-a226-c2114660b6c6"
   },
   "source": [
    "### Part 3: Analyzing Stability at a Specific Temperature\n",
    "\n",
    "Finally, we'll pick a specific temperature, calculate the numerical values of our parameters, construct the matrix $A$, and find its eigenvalues to determine the system's stability at that temperature."
   ]
  },
  {
   "cell_type": "code",
   "execution_count": 6,
   "id": "c42fc23a",
   "metadata": {
    "id": "c711a68c-ff5d-4f10-b983-05f43063f28d"
   },
   "outputs": [
    {
     "name": "stdout",
     "output_type": "stream",
     "text": [
      "At T = 25°C:\n",
      "G = 0.3490, Y = 0.1750, F = 0.1200, Z = 1.3500\n",
      "The eigenvalues are: -0.2567+0.0000j and -1.3883+0.0000j\n",
      "Both eigenvalues have negative real parts. The system is STABLE.\n",
      "The populations will return to the equilibrium point after a disturbance.\n"
     ]
    }
   ],
   "source": [
    "# Choose an example temperature\n",
    "T_example = 25\n",
    "\n",
    "# Calculate parameter values at the chosen temperature\n",
    "G_val = G_temp(T_example)\n",
    "Y_val = Y_temp(T_example)\n",
    "F_val = F_temp(T_example)\n",
    "Z_val = Z_temp(T_example)\n",
    "\n",
    "# Create the numerical matrix A\n",
    "A_numerical = np.array([[-Y_val - F_val, G_val],\n",
    "                       [F_val, -Z_val]])\n",
    "\n",
    "# Find the eigenvalues of the numerical matrix\n",
    "eigenvalues = eigvals(A_numerical)\n",
    "\n",
    "print(f\"At T = {T_example}°C:\")\n",
    "print(f\"G = {G_val:.4f}, Y = {Y_val:.4f}, F = {F_val:.4f}, Z = {Z_val:.4f}\")\n",
    "print(f\"The eigenvalues are: {eigenvalues[0]:.4f} and {eigenvalues[1]:.4f}\")\n",
    "\n",
    "# Interpret the stability based on the eigenvalues\n",
    "real_part_1 = np.real(eigenvalues[0])\n",
    "real_part_2 = np.real(eigenvalues[1])\n",
    "\n",
    "if real_part_1 < 0 and real_part_2 < 0:\n",
    "    print(\"Both eigenvalues have negative real parts. The system is STABLE.\")\n",
    "    print(\"The populations will return to the equilibrium point after a disturbance.\")\n",
    "elif real_part_1 > 0 or real_part_2 > 0:\n",
    "    print(\"At least one eigenvalue has a positive real part. The system is UNSTABLE.\")\n",
    "    if real_part_1 * real_part_2 < 0:\n",
    "        print(\"Specifically, it is a saddle point.\")\n",
    "    print(\"The populations will diverge from the equilibrium point.\")\n",
    "else:\n",
    "    print(\"The real parts are zero. The system is a CENTER (neutrally stable).\")\n",
    "    print(\"Populations will oscillate around the equilibrium but will not converge or diverge.\")"
   ]
  },
  {
   "cell_type": "markdown",
   "id": "9491fadb",
   "metadata": {
    "id": "e7c6507a-d03b-410a-b5e1-51213f5728a9"
   },
   "source": [
    "---"
   ]
  },
  {
   "cell_type": "code",
   "execution_count": null,
   "id": "65a09db7-9738-428d-83d2-292ef2761dee",
   "metadata": {},
   "outputs": [],
   "source": []
  }
 ],
 "metadata": {
  "kernelspec": {
   "display_name": "Python 3 (ipykernel)",
   "language": "python",
   "name": "python3"
  },
  "language_info": {
   "codemirror_mode": {
    "name": "ipython",
    "version": 3
   },
   "file_extension": ".py",
   "mimetype": "text/x-python",
   "name": "python",
   "nbconvert_exporter": "python",
   "pygments_lexer": "ipython3",
   "version": "3.11.11"
  }
 },
 "nbformat": 4,
 "nbformat_minor": 5
}
