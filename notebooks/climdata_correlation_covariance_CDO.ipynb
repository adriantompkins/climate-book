{
 "cells": [
  {
   "cell_type": "markdown",
   "id": "3d62c60d-6c23-449e-a123-fba4dce19720",
   "metadata": {},
   "source": [
    "## Derivation of R² = r² in Simple Linear Regression\n",
    "\n",
    "$R^2$ (the coefficient of determination) is equal to r² (the square of the Pearson correlation coefficient) in the case of simple linear regression.\n",
    "\n",
    "we recall \n",
    "\n",
    "$r = Cov(x, y) / (\\sigma_x * \\sigma_y)$\n",
    "\n",
    "Where:\n",
    "$$ Cov(x, y) = \\frac{\\sum (x_i - \\bar{x})(y_i - \\bar{y})} {(n - 1)}$$ (sample covariance)\n",
    "\n",
    "and $\\sigma_x$ and $\\sigma_y$ are the two samples' standard deviation. \n",
    "\n",
    "\n",
    "So starting \n",
    "$$ R^2 = 1 - \\frac{\\sum (y_i - \\hat{y}_i)^2}{\\sum (y_i - \\bar{y})^2} $$\n",
    "\n",
    "\n",
    "Substituting SSE in R²:**\n",
    "    * R² = 1 - (SSE / SST)\n",
    "    * R² = 1 - ((SST - SSR) / SST)\n",
    "    * R² = SSR / SST\n",
    "* **Expressing SSR in terms of ŷ:**\n",
    "    * SSR = Σ(ŷᵢ - ȳ)²\n",
    "* **Substituting ŷ:**\n",
    "    * SSR = Σ[(b₀ + b₁xᵢ) - ȳ]²\n",
    "* **Substituting b₁:**\n",
    "    * SSR = Σ[(b₀ + r * (Sy / Sx) * xᵢ) - ȳ]²\n",
    "* **Relating b₀ to x̄ and ȳ:**\n",
    "    * We know that the regression line passes through (x̄, ȳ), so:\n",
    "        * ȳ = b₀ + b₁x̄\n",
    "        * b₀ = ȳ - b₁x̄\n",
    "    * Substituting b₀:\n",
    "        * SSR = Σ[(ȳ - b₁x̄ + b₁xᵢ) - ȳ]²\n",
    "        * SSR = Σ[b₁(xᵢ - x̄)]²\n",
    "* **Substituting b₁ again:**\n",
    "    * SSR = Σ[r * (Sy / Sx) * (xᵢ - x̄)]²\n",
    "    * SSR = r² * (Sy² / Sx²) * Σ(xᵢ - x̄)²\n",
    "* **Expressing Sy² and Sx²:**\n",
    "    * Sy² = Σ(yᵢ - ȳ)² / (n - 1)\n",
    "    * Sx² = Σ(xᵢ - x̄)² / (n - 1)\n",
    "* **Substituting Sy² and Sx²:**\n",
    "    * SSR = r² * [Σ(yᵢ - ȳ)² / (n - 1)] / [Σ(xᵢ - x̄)² / (n - 1)] * Σ(xᵢ - x̄)²\n",
    "    * SSR = r² * Σ(yᵢ - ȳ)²\n",
    "* **Substituting SST:**\n",
    "    * Since SST = Σ(yᵢ - ȳ)², we have:\n",
    "    * SSR = r² * SST\n",
    "* **Substituting in R² again:**\n",
    "    * R² = SSR / SST\n",
    "    * R² = r² * SST / SST\n",
    "    * R² = r²\n",
    "\n"
   ]
  },
  {
   "cell_type": "code",
   "execution_count": null,
   "id": "0995b2f9-bb9b-4a20-9148-ee00e66179ad",
   "metadata": {},
   "outputs": [],
   "source": []
  }
 ],
 "metadata": {
  "kernelspec": {
   "display_name": "Bash",
   "language": "bash",
   "name": "bash"
  },
  "language_info": {
   "codemirror_mode": "shell",
   "file_extension": ".sh",
   "mimetype": "text/x-sh",
   "name": "bash"
  }
 },
 "nbformat": 4,
 "nbformat_minor": 5
}
