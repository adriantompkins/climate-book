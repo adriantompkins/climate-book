{
 "cells": [
  {
   "cell_type": "code",
   "execution_count": 2,
   "id": "8068287b",
   "metadata": {},
   "outputs": [],
   "source": [
    "import climlab"
   ]
  },
  {
   "cell_type": "code",
   "execution_count": 3,
   "id": "ca3842e7",
   "metadata": {},
   "outputs": [
    {
     "name": "stdout",
     "output_type": "stream",
     "text": [
      "3.10.9\n"
     ]
    }
   ],
   "source": [
    "\n",
    "from platform import python_version\n",
    "\n",
    "print(python_version())"
   ]
  },
  {
   "cell_type": "code",
   "execution_count": 7,
   "id": "2160ea80",
   "metadata": {},
   "outputs": [
    {
     "data": {
      "text/plain": [
       "AttrDict({'Ts': Field([288.]), 'Tatm': Field([200.        , 202.68965517, 205.37931034, 208.06896552,\n",
       "       210.75862069, 213.44827586, 216.13793103, 218.82758621,\n",
       "       221.51724138, 224.20689655, 226.89655172, 229.5862069 ,\n",
       "       232.27586207, 234.96551724, 237.65517241, 240.34482759,\n",
       "       243.03448276, 245.72413793, 248.4137931 , 251.10344828,\n",
       "       253.79310345, 256.48275862, 259.17241379, 261.86206897,\n",
       "       264.55172414, 267.24137931, 269.93103448, 272.62068966,\n",
       "       275.31034483, 278.        ])})"
      ]
     },
     "execution_count": 7,
     "metadata": {},
     "output_type": "execute_result"
    }
   ],
   "source": [
    "state = climlab.column_state(num_lev=30)\n",
    "state"
   ]
  },
  {
   "cell_type": "code",
   "execution_count": 4,
   "id": "aae8c417",
   "metadata": {},
   "outputs": [
    {
     "name": "stdout",
     "output_type": "stream",
     "text": [
      "Integrating for 365 steps, 365.2422 days, or 1 years.\n",
      "Total elapsed time is 0.9993368783782377 years.\n",
      "[0.03631771]\n"
     ]
    }
   ],
   "source": [
    "import climlab\n",
    "alb = 0.25\n",
    "#  State variables (Air and surface temperature)\n",
    "state = climlab.column_state(num_lev=30)\n",
    "#  Parent model process\n",
    "rcm = climlab.TimeDependentProcess(state=state)\n",
    "#  Fixed relative humidity\n",
    "h2o = climlab.radiation.ManabeWaterVapor(state=state)\n",
    "#  Couple water vapor to radiation\n",
    "rad = climlab.radiation.RRTMG(state=state, specific_humidity=h2o.q, albedo=alb)\n",
    "#  Convective adjustment\n",
    "conv = climlab.convection.ConvectiveAdjustment(state=state, adj_lapse_rate=6.5)\n",
    "#  Couple everything together\n",
    "rcm.add_subprocess('Radiation', rad)\n",
    "rcm.add_subprocess('WaterVapor', h2o)\n",
    "rcm.add_subprocess('Convection', conv)\n",
    "#  Run the model\n",
    "rcm.integrate_years(1)\n",
    "#  Check for energy balance\n",
    "print (rcm.ASR - rcm.OLR)"
   ]
  },
  {
   "cell_type": "code",
   "execution_count": 5,
   "id": "80928c0b",
   "metadata": {},
   "outputs": [
    {
     "data": {
      "text/plain": [
       "<module 'climlab' from '/Users/tompkins/mambaforge/lib/python3.10/site-packages/climlab/__init__.py'>"
      ]
     },
     "execution_count": 5,
     "metadata": {},
     "output_type": "execute_result"
    }
   ],
   "source": [
    "import importlib\n",
    "importlib.import_module(\"climlab\")\n"
   ]
  },
  {
   "cell_type": "code",
   "execution_count": null,
   "id": "12525c5d",
   "metadata": {},
   "outputs": [],
   "source": []
  }
 ],
 "metadata": {
  "kernelspec": {
   "display_name": "base",
   "language": "python",
   "name": "base"
  },
  "language_info": {
   "codemirror_mode": {
    "name": "ipython",
    "version": 3
   },
   "file_extension": ".py",
   "mimetype": "text/x-python",
   "name": "python",
   "nbconvert_exporter": "python",
   "pygments_lexer": "ipython3",
   "version": "3.10.9"
  }
 },
 "nbformat": 4,
 "nbformat_minor": 5
}
